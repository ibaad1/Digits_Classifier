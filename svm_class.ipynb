{
 "cells": [
  {
   "cell_type": "code",
   "execution_count": 259,
   "metadata": {},
   "outputs": [],
   "source": [
    "import numpy as np\n",
    "from cvxopt import matrix,solvers,spdiag\n",
    "solvers.options['show_progress'] = False"
   ]
  },
  {
   "cell_type": "markdown",
   "metadata": {},
   "source": [
    "# Identity kernal function"
   ]
  },
  {
   "cell_type": "code",
   "execution_count": 143,
   "metadata": {
    "collapsed": true
   },
   "outputs": [],
   "source": [
    "def kern_id(x1,x2,p):\n",
    "    return (np.dot(x1,x2))"
   ]
  },
  {
   "cell_type": "markdown",
   "metadata": {},
   "source": [
    "# Non-Linear kernal function"
   ]
  },
  {
   "cell_type": "code",
   "execution_count": 144,
   "metadata": {
    "collapsed": true
   },
   "outputs": [],
   "source": [
    "def kern_nl(x1,x2,p):\n",
    "    return ((np.dot(x1,x2) +1) ** p)\n"
   ]
  },
  {
   "cell_type": "markdown",
   "metadata": {},
   "source": [
    "<b>svm</b> is a SVM classifer which calls the kernel function specified above. Linear SVM is a special case in it \n",
    "\n",
    "<b>INPUTS</b>\n",
    "\n",
    "<b>X</b>                                  :<i><i>The dataset</i>   (N x D) <br>\n",
    "<b>t</b>                                  :<i><i>The Labels</i>    (N x 1) <br>\n",
    "<b>C</b>                                  :<i>Penalty factor for slack variables</i> (Scalar)<br>\n",
    "<b>kern</b>                               :<i>Reference to the kernal function</i><br><br><br> \n",
    "\n",
    "<b>RETURN TUPLE</b>\n",
    "\n",
    "The function return a tuple comprising <b>(alpha,sv,w,b,result,slack)</b>\n",
    "\n",
    "<b>alpha</b>                              : <i>Output of the quadratic programming function</i> (N x 1) <br>\n",
    "<b>sv</b>                                 : <i>Support Vectors (boolean)</i> (N x 1) <br>\n",
    "<b>w</b>                                  : <i>Parameters pf the classifier</i> (D x 1) <br>\n",
    "<b>b</b>                                  : <i>Bias of the classifier</i>   (Scalar) <br>\n",
    "<b>result</b>                             : <i>Result of the classification on the training data</i> (N x 1) <br>\n",
    "<b>slack</b>                              : <i>Points inside the margin (Boolean)</i> (Nx1) <br>\n",
    "\n",
    "\n",
    "\n"
   ]
  },
  {
   "cell_type": "code",
   "execution_count": 157,
   "metadata": {},
   "outputs": [],
   "source": [
    "def svm(X,t,C,kern):\n",
    "    \n",
    "    N = X.shape[0]                                              #No. of samples\n",
    "    D = X.shape[1]                                              #Dimension of samples/points\n",
    "    \n",
    "   \n",
    "    #P = matrix(np.dot( np.dot(np.diag(t),X), np.dot(X.T,np.diag(t))), tc = 'd')\n",
    "    \n",
    "    P = matrix(np.zeros((N,N)))\n",
    "    \n",
    "    for i in range(N):\n",
    "        for j in range(N):\n",
    "            P[i,j] = t[i] * t[j] * kern(X[i,:],X[j,:],2)\n",
    "    \n",
    "    q = matrix(-1 * np.ones((N,1)), tc = 'd')\n",
    "    G = matrix(np.concatenate((np.eye(N) * -1,np.eye(N))), tc = 'd')\n",
    "    h = matrix(np.concatenate((np.zeros((N,1)),np.ones((N,1)) * C)), tc = 'd')\n",
    "    A = matrix(np.dot(t.T,np.eye(N)),tc = 'd').T\n",
    "    b = matrix(np.zeros((1,1)),tc = 'd')\n",
    "    \n",
    "\n",
    "    \n",
    "    alpha = solvers.qp(P,q,G,h,A,b)\n",
    "    \n",
    "    print 'Data type of alpha is '\n",
    "    \n",
    "    sv = map(lambda i: i>(5*10**-7),alpha['x'])                #Support Vectors** default tolerance = 1e-7\n",
    "    sv_idx = [i for i in range(N) if sv[i] == True]            #list of support vector indexes\n",
    "    \n",
    "    \n",
    "    w = np.sum(np.dot(np.diag(np.array(alpha['x'][sv_idx])[:,0]),np.dot(np.diag(t[sv_idx]),X[sv_idx,:])), axis=0 )\n",
    "    \n",
    "    \n",
    "    b = 0\n",
    "    \n",
    "    \n",
    "    \n",
    "    #it_in = np.nditer(sv, flags = ['f_index'])\n",
    "    \n",
    "    for i in sv_idx:\n",
    "        sum = 0\n",
    "        for j in sv_idx:\n",
    "            sum += alpha['x'][j] * t[j] * np.dot(X[j,:], (X[i,:].T))\n",
    "\n",
    "        b += t[i] - sum\n",
    "            \n",
    "    b = b * 1.0 / len(sv_idx);                     #Division by no of support vectors including slack vars\n",
    "    \n",
    "    \n",
    "    res = (np.dot(w,X.T) + b).T                 #Mapped values\n",
    "    \n",
    "    slack = ((t * res) < 1)                       #values on the wrong side of the margin\n",
    "    \n",
    "    result = res / abs(res)                       #class mapping\n",
    "    \n",
    "    \n",
    "            \n",
    "    \n",
    "    return (alpha, sv, w, b, result, slack)\n",
    "    \n",
    "    "
   ]
  },
  {
   "cell_type": "markdown",
   "metadata": {},
   "source": [
    "# Parameter Values\n",
    "\n",
    "<b> C </b>                                  : <i>  Penalty factor for slack variables</i> (Scalar)<br>                    "
   ]
  },
  {
   "cell_type": "code",
   "execution_count": 153,
   "metadata": {
    "collapsed": true
   },
   "outputs": [],
   "source": [
    "class parameters(object):\n",
    "    \n",
    "    def __init__(self,C,C2,norm):\n",
    "        self.C = C\n",
    "        self.C2 = C2\n",
    "        self.norm = norm\n",
    "        \n",
    "    def getParams():\n",
    "        return (C,C2,norm)\n",
    "    \n",
    "    "
   ]
  },
  {
   "cell_type": "markdown",
   "metadata": {},
   "source": [
    "# Sample Class\n",
    "\n",
    "Each sample object has two attributes, <i><b>data</b></i> and <i><b>label</b></i>. The constructor takes the paths to the files containing <i><b>data</b></i> and <i><b>label</b></i> respectively"
   ]
  },
  {
   "cell_type": "code",
   "execution_count": 154,
   "metadata": {
    "collapsed": true
   },
   "outputs": [],
   "source": [
    "class sample(object):\n",
    "    \n",
    "    def __init__(self,f_data,f_label):\n",
    "        \n",
    "        self.f_data = f_data                                #file name containing data\n",
    "        self.f_label = f_label                              #file name containing labels\n",
    "        \n",
    "        fyle = open(f_data,'rb')\n",
    "        self.data = np.fromfile(fyle,sep=' ', dtype=np.double)\n",
    "        fyle.close()\n",
    "        self.data = np.reshape(self.data,(self.data.shape[0]/2,2),order='C')\n",
    "        \n",
    "        fyle = open(f_label,'rb')\n",
    "        self.label = np.fromfile(fyle,sep=' ', dtype=np.double)\n",
    "        fyle.close()\n",
    "           "
   ]
  },
  {
   "cell_type": "markdown",
   "metadata": {},
   "source": [
    "# Digit Class\n",
    "\n",
    "Each digit object has two attributes, <i><b>train</b></i> and <i><b>test</b></i>. The constructor takes the paths to the files containing <i><b>train</b></i> samples and <i><b>test</b></i> samples respectively"
   ]
  },
  {
   "cell_type": "code",
   "execution_count": 155,
   "metadata": {},
   "outputs": [],
   "source": [
    "class digit(object):\n",
    "    \n",
    "    def __init__(self,f_train,f_test):\n",
    "        \n",
    "        d = 256   #deimension of the image space i.e. 16 x 16\n",
    "        \n",
    "        self.f_train = f_train\n",
    "        self.f_test = f_test\n",
    "        \n",
    "        fyle = open(f_train,'rb')\n",
    "        #self.train = np.fromfile(fyle,sep=',', dtype=np.double)\n",
    "        self.train = np.empty([1,d])\n",
    "        \n",
    "        lines = fyle.readlines()\n",
    "        \n",
    "        for i in range(len(lines)):\n",
    "            temp = map(lambda x: float(x),lines[i].split(','))\n",
    "            self.train = np.vstack((self.train,temp))\n",
    "        \n",
    "        fyle.close()\n",
    "        \n",
    "        \n",
    "        fyle = open(f_test,'rb')\n",
    "        self.test = np.empty([1,d])\n",
    "        \n",
    "        lines = fyle.readlines()\n",
    "        \n",
    "        for i in range(len(lines)):\n",
    "            temp = map(lambda x: float(x),lines[i].split(','))\n",
    "            self.test = np.vstack((self.test,temp))\n",
    "        \n",
    "        fyle.close()\n",
    "        \n",
    "        "
   ]
  },
  {
   "cell_type": "markdown",
   "metadata": {},
   "source": [
    "# Main Script\n"
   ]
  },
  {
   "cell_type": "code",
   "execution_count": 260,
   "metadata": {
    "scrolled": true
   },
   "outputs": [
    {
     "name": "stdout",
     "output_type": "stream",
     "text": [
      "Accuracy lin SVM with C = 1000: 0.864865\n"
     ]
    },
    {
     "data": {
      "image/png": "[encoded data removed]",
      "text/plain": [
       "<matplotlib.figure.Figure at 0x7fb96f60c690>"
      ]
     },
     "metadata": {},
     "output_type": "display_data"
    },
    {
     "name": "stdout",
     "output_type": "stream",
     "text": [
      "training error for the digits classifier is 0.000600601\n",
      "Test error for the digits classifier is 0.00694444\n"
     ]
    },
    {
     "data": {
      "image/png": "[encoded data removed]",
      "text/plain": [
       "<matplotlib.figure.Figure at 0x7fb96ed9c8d0>"
      ]
     },
     "metadata": {},
     "output_type": "display_data"
    },
    {
     "name": "stdout",
     "output_type": "stream",
     "text": [
      "Accuracy of kernel SVM with C = 1000: 0.945946\n",
      "\n"
     ]
    }
   ],
   "source": [
    "import matplotlib.pyplot as plt \n",
    "import scipy.io as load\n",
    "\n",
    "#Hyperparameters\n",
    "\n",
    "C = 1000\n",
    "C2 = 1000\n",
    "norm = 2\n",
    "\n",
    "p = parameters(C,C2,norm)\n",
    "\n",
    "f_train_data = './data/lc_train_data.dat'\n",
    "f_train_label = './data/lc_train_label.dat'\n",
    "\n",
    "train = sample(f_train_data,f_train_label)\n",
    "\n",
    "f_test_data = './data/lc_test_data.dat'\n",
    "f_test_label = './data/lc_test_label.dat'\n",
    "\n",
    "test = sample(f_test_data,f_test_label)\n",
    "\n",
    "#train the SVM\n",
    "(alpha, sv, w, b, result, slack)  = svm(train.data, train.label, p.C, kern_id);\n",
    "\n",
    "sv_idx = [i for i in range(len(sv)) if sv[i] == True]            #list of support vector indexes\n",
    "slk_idx = [i for i in range(len(slack)) if slack[i] == True]\n",
    "\n",
    "#ploting\n",
    "xmax = np.amax(train.data[:, 0]);\n",
    "xmin = np.amin(train.data[:, 0]);\n",
    "ymax = np.amax(train.data[:, 1]);\n",
    "ymin = np.amin(train.data[:, 1]);\n",
    "\n",
    "xmargin = (xmax-xmin)/10.0;\n",
    "ymargin = (ymax-ymin)/10.0;\n",
    "\n",
    "plt.subplot(2,1,1)\n",
    "plt.title('Train Set and learned SVM model')\n",
    "plt.plot(train.data[np.where(train.label==1), 0], train.data[np.where(train.label==1), 1],'b*')\n",
    "plt.plot(train.data[np.where(train.label==-1), 0], train.data[np.where(train.label==-1), 1],'r*')\n",
    "\n",
    "plt.plot(train.data[sv_idx, 0], train.data[sv_idx,1], 'yo')\n",
    "plt.axis([xmin-xmargin, xmax+xmargin, ymin-ymargin, ymax+ymargin])\n",
    "\n",
    "#Plot the slack points\n",
    "plt.plot(train.data[slk_idx,0], train.data[slk_idx,1], 'gs')\n",
    "\n",
    "x = np.linspace(-xmax,xmax,int(xmax*2/0.001))\n",
    "y = -(w[0]*x + b)/w[1]\n",
    "pos = -(w[0]*x + b + 1)/w[1]\n",
    "neg = -(w[0]*x + b - 1)/w[1]\n",
    "\n",
    "plt.plot(x, y, 'k-')\n",
    "plt.plot(x, neg, 'b-')\n",
    "plt.plot(x, pos, 'r-')\n",
    "\n",
    "#plt.legend(['CLass 1','Class -1'])\n",
    "\n",
    "resultv = np.sign(np.dot(test.data,w) + b);\n",
    "\n",
    "plt.subplot(2,1,2)\n",
    "plt.plot(test.data[np.where(test.label==1), 0], test.data[np.where(test.label==1),1], 'b*');\n",
    "plt.plot(test.data[np.where(test.label==-1),0], test.data[np.where(test.label==-1),1], 'r*');\n",
    " # incorrectly classified\n",
    "plt.plot(test.data[np.where(test.label!=resultv),0], test.data[np.where(test.label!=resultv),1], 'ko');\n",
    "accuracy = 1.0 * sum(resultv==test.label)/test.label.shape[0]\n",
    "print 'Accuracy lin SVM with C = %g: %g' % (p.C, accuracy)\n",
    "plt.show()\n",
    "\n",
    "\n",
    "one = digit('./data/digit_1_train.dat','./data/digit_1_test.dat')\n",
    "three = digit('./data/digit_3_train.dat','./data/digit_3_test.dat')\n",
    "eight = digit('./data/digit_8_train.dat','./data/digit_8_test.dat')\n",
    "\n",
    "\n",
    "\n",
    "X = np.hstack((one.train.T,three.train.T))\n",
    "t_train1 = np.ones((one.train.shape[0]))\n",
    "\n",
    "t_train3 = (-1.0)*np.ones((three.train.shape[0]))\n",
    "t = np.hstack((t_train1.T, t_train3.T))\n",
    "\n",
    "#Retraining the classifier\n",
    "(alpha, sv, w, b, result, slack) = svm(X.T, t, p.C, kern_id)\n",
    "\n",
    "train_result = result;\n",
    "train_result[train_result < 0] = -1;\n",
    "train_result[train_result >= 0] = 1;\n",
    "train_error = 1.0 * sum(train_result != t) / float(t.shape[0])\n",
    "print 'training error for the digits classifier is %g' % train_error\n",
    "\n",
    "\n",
    "Xtest = np.hstack((one.test.T, three.test.T))\n",
    "ttest = np.hstack((np.ones((1,one.test.shape[0])),(-1)*np.ones((1,three.test.shape[0]))))\n",
    "\n",
    "testresult = np.dot(w,Xtest) + b\n",
    "\n",
    "testresult[testresult < 0] = -1\n",
    "testresult[testresult >= 0] = 1\n",
    "\n",
    "test_error = 1.0 * sum(testresult != ttest[0,:]) / float(ttest.shape[1])\n",
    "\n",
    "print 'Test error for the digits classifier is %g' % test_error\n",
    "\n",
    "\n",
    "w = np.reshape(w, (16, 16))\n",
    "plt.imshow(w, aspect='auto', interpolation='none', origin='lower')\n",
    "plt.show()\n",
    "\n",
    "\n",
    "\n",
    "# kernel SVM\n",
    "(alpha, sv, w, b, result, slack)  = svm(train.data, train.label, p.C2, kern_nl);\n",
    "\n",
    "sv_idx = [i for i in range(len(sv)) if sv[i] == True]\n",
    "\n",
    "\n",
    "# Run the classifier on the test data\n",
    "\n",
    "\n",
    "result = np.sign(np.dot(alpha['x'][sv_idx].T * train.label[sv_idx], \n",
    "                        kern(test.data,train.data[sv_idx,:].T,p.norm).T) + b) \n",
    "\n",
    "#accuracy on test data\n",
    "accuracy = 1.0 * sum(result[0,:].T==test.label)/test.label.shape[0]\n",
    "\n",
    "print 'Accuracy of kernel SVM with C = %g: %g\\n' % (p.C2, accuracy)\n"
   ]
  },
  {
   "cell_type": "code",
   "execution_count": null,
   "metadata": {
    "collapsed": true
   },
   "outputs": [],
   "source": []
  }
 ],
 "metadata": {
  "kernelspec": {
   "display_name": "Python 2",
   "language": "python",
   "name": "python2"
  },
  "language_info": {
   "codemirror_mode": {
    "name": "ipython",
    "version": 2
   },
   "file_extension": ".py",
   "mimetype": "text/x-python",
   "name": "python",
   "nbconvert_exporter": "python",
   "pygments_lexer": "ipython2",
   "version": "2.7.12"
  }
 },
 "nbformat": 4,
 "nbformat_minor": 2
}
